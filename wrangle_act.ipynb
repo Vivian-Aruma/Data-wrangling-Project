{
 "cells": [
  {
   "cell_type": "markdown",
   "id": "950c6369",
   "metadata": {},
   "source": [
    "# Project: Wrangling and Analyze Data"
   ]
  },
  {
   "cell_type": "code",
   "execution_count": 2,
   "id": "6dfd3b6d",
   "metadata": {},
   "outputs": [],
   "source": [
    "# importing pandas and requests packages\n",
    "import pandas as pd\n",
    "import numpy as np\n",
    "import requests\n",
    "import json\n",
    "import os\n",
    "import matplotlib.pyplot as plt\n",
    "%matplotlib inline"
   ]
  },
  {
   "cell_type": "markdown",
   "id": "2594d0e1",
   "metadata": {},
   "source": [
    "# download the WeRateDogs Twitter archive data (twitter_archive_enhanced.csv)"
   ]
  },
  {
   "cell_type": "code",
   "execution_count": 3,
   "id": "8b201fb9",
   "metadata": {},
   "outputs": [],
   "source": [
    "# reading the twitter_archive_enhanced dataset\n",
    "\n",
    "twitter_archive_enhanced = pd.read_csv('twitter-archive-enhanced.csv')\n"
   ]
  },
  {
   "cell_type": "markdown",
   "id": "b268a20a",
   "metadata": {},
   "source": [
    "2. Use the Requests library to download the tweet image prediction (image_predictions.tsv"
   ]
  },
  {
   "cell_type": "code",
   "execution_count": 4,
   "id": "7a70e1e1",
   "metadata": {},
   "outputs": [],
   "source": [
    "# request the file from the udacity server\n",
    "\n",
    "URL = \"https://d17h27t6h515a5.cloudfront.net/topher/2017/August/599fd2ad_image-predictions/image-predictions.tsv\"\n",
    "\n",
    "response = requests.get(URL) \n"
   ]
  },
  {
   "cell_type": "code",
   "execution_count": 5,
   "id": "4f329ee2",
   "metadata": {},
   "outputs": [],
   "source": [
    "# creating and saving the file using the open function\n",
    "file = open(\"image_prediction.tsv\", \"wb\") \n",
    "file.write(response.content)\n",
    "file.close()"
   ]
  },
  {
   "cell_type": "code",
   "execution_count": 6,
   "id": "e335804a",
   "metadata": {},
   "outputs": [],
   "source": [
    "# ensure that the file is always closed using thw 'with' statement\n",
    "with open(\"image_prediction.tsv\", \"wb\")as file:\n",
    "    file.write(response.content)"
   ]
  },
  {
   "cell_type": "code",
   "execution_count": 7,
   "id": "6fa4356c",
   "metadata": {},
   "outputs": [
    {
     "name": "stderr",
     "output_type": "stream",
     "text": [
      "C:\\Users\\User\\AppData\\Local\\Temp\\ipykernel_11040\\3157526433.py:2: FutureWarning: In a future version of pandas all arguments of read_csv except for the argument 'filepath_or_buffer' will be keyword-only.\n",
      "  df_image = pd.read_csv('image_prediction.tsv', '\\t')\n"
     ]
    }
   ],
   "source": [
    "# read the image_prediction.tsv file and show 2 rows\n",
    "df_image = pd.read_csv('image_prediction.tsv', '\\t')\n"
   ]
  },
  {
   "cell_type": "code",
   "execution_count": null,
   "id": "0797f1e0",
   "metadata": {},
   "outputs": [],
   "source": [
    "import tweepy\n",
    "from tweepy import OAuthHandler\n",
    "import json\n",
    "from timeit import default_timer as timer\n",
    "\n",
    "# Query Twitter API for each tweet in the Twitter archive and save JSON in a text file\n",
    "# These are hidden to comply with Twitter's API terms and conditions\n",
    "consumer_key = 'HIDDEN'\n",
    "consumer_secret = 'HIDDEN'\n",
    "access_token = 'HIDDEN'\n",
    "access_secret = 'HIDDEN'\n",
    "\n",
    "auth = OAuthHandler(consumer_key, consumer_secret)\n",
    "auth.set_access_token(access_token, access_secret)\n",
    "\n",
    "api = tweepy.API(auth, wait_on_rate_limit=True)\n",
    "\n",
    "# NOTE TO STUDENT WITH MOBILE VERIFICATION ISSUES:\n",
    "# df_1 is a DataFrame with the twitter_archive_enhanced.csv file. You may have to\n",
    "# change line 17 to match the name of your DataFrame with twitter_archive_enhanced.csv\n",
    "# NOTE TO REVIEWER: this student had mobile verification issues so the following\n",
    "# Twitter API code was sent to this student from a Udacity instructor\n",
    "# Tweet IDs for which to gather additional data via Twitter's API\n",
    "tweet_ids = df_1.tweet_id.values\n",
    "len(tweet_ids)\n",
    "\n",
    "# Query Twitter's API for JSON data for each tweet ID in the Twitter archive\n",
    "count = 0\n",
    "fails_dict = {}\n",
    "start = timer()\n",
    "# Save each tweet's returned JSON as a new line in a .txt file\n",
    "with open('tweet_json.txt', 'w') as outfile:\n",
    "    # This loop will likely take 20-30 minutes to run because of Twitter's rate limit\n",
    "    for tweet_id in tweet_ids:\n",
    "        count += 1\n",
    "        print(str(count) + \": \" + str(tweet_id))\n",
    "        try:\n",
    "            tweet = api.get_status(tweet_id, tweet_mode='extended')\n",
    "            print(\"Success\")\n",
    "            json.dump(tweet._json, outfile)\n",
    "            outfile.write('\\n')\n",
    "        except tweepy.TweepError as e:\n",
    "            print(\"Fail\")\n",
    "            fails_dict[tweet_id] = e\n",
    "            pass\n",
    "end = timer()\n",
    "print(end - start)\n",
    "print(fails_dict)"
   ]
  },
  {
   "cell_type": "markdown",
   "id": "46fb3162",
   "metadata": {},
   "source": [
    "3. read the tweet_json.txt file downloaded"
   ]
  },
  {
   "cell_type": "code",
   "execution_count": 9,
   "id": "c1a50b89",
   "metadata": {},
   "outputs": [],
   "source": [
    "# read the tweet_json.txt file downloaded\n",
    "list_tweets = []\n",
    "with open('tweet-json.txt', 'r', encoding='utf-8') as openfile:\n",
    "  for line in openfile:\n",
    "    data = json.loads(line)\n",
    "    list_tweets.append(data)"
   ]
  },
  {
   "cell_type": "code",
   "execution_count": 10,
   "id": "d782a625",
   "metadata": {},
   "outputs": [],
   "source": [
    "# extract id, retweet_count, favorite_count from the json file\n",
    "df_list = []\n",
    "for i in list_tweets:\n",
    "    tweet_id = i['id']\n",
    "    retweet_count = i['retweet_count']\n",
    "    favorite_count = i['favorite_count']\n",
    "    df_list.append({'id':tweet_id , 'retweet_count': retweet_count , 'favorite_count': favorite_count})\n",
    "    \n",
    "#source code: Alx_Udacity Slack"
   ]
  },
  {
   "cell_type": "code",
   "execution_count": 11,
   "id": "4c2e1533",
   "metadata": {},
   "outputs": [],
   "source": [
    "# Create a data Frame from Json extracted data: \n",
    "df_json = pd.DataFrame(df_list , columns = ['id' , 'retweet_count' , 'favorite_count'])"
   ]
  },
  {
   "cell_type": "markdown",
   "id": "bfe0f3e9",
   "metadata": {},
   "source": [
    "# ASSESSING DATA"
   ]
  },
  {
   "cell_type": "code",
   "execution_count": 12,
   "id": "5b31b15b",
   "metadata": {},
   "outputs": [
    {
     "data": {
      "text/html": [
       "<div>\n",
       "<style scoped>\n",
       "    .dataframe tbody tr th:only-of-type {\n",
       "        vertical-align: middle;\n",
       "    }\n",
       "\n",
       "    .dataframe tbody tr th {\n",
       "        vertical-align: top;\n",
       "    }\n",
       "\n",
       "    .dataframe thead th {\n",
       "        text-align: right;\n",
       "    }\n",
       "</style>\n",
       "<table border=\"1\" class=\"dataframe\">\n",
       "  <thead>\n",
       "    <tr style=\"text-align: right;\">\n",
       "      <th></th>\n",
       "      <th>tweet_id</th>\n",
       "      <th>in_reply_to_status_id</th>\n",
       "      <th>in_reply_to_user_id</th>\n",
       "      <th>timestamp</th>\n",
       "      <th>source</th>\n",
       "      <th>text</th>\n",
       "      <th>retweeted_status_id</th>\n",
       "      <th>retweeted_status_user_id</th>\n",
       "      <th>retweeted_status_timestamp</th>\n",
       "      <th>expanded_urls</th>\n",
       "      <th>rating_numerator</th>\n",
       "      <th>rating_denominator</th>\n",
       "      <th>name</th>\n",
       "      <th>doggo</th>\n",
       "      <th>floofer</th>\n",
       "      <th>pupper</th>\n",
       "      <th>puppo</th>\n",
       "    </tr>\n",
       "  </thead>\n",
       "  <tbody>\n",
       "    <tr>\n",
       "      <th>0</th>\n",
       "      <td>892420643555336193</td>\n",
       "      <td>NaN</td>\n",
       "      <td>NaN</td>\n",
       "      <td>2017-08-01 16:23:56 +0000</td>\n",
       "      <td>&lt;a href=\"http://twitter.com/download/iphone\" r...</td>\n",
       "      <td>This is Phineas. He's a mystical boy. Only eve...</td>\n",
       "      <td>NaN</td>\n",
       "      <td>NaN</td>\n",
       "      <td>NaN</td>\n",
       "      <td>https://twitter.com/dog_rates/status/892420643...</td>\n",
       "      <td>13</td>\n",
       "      <td>10</td>\n",
       "      <td>Phineas</td>\n",
       "      <td>None</td>\n",
       "      <td>None</td>\n",
       "      <td>None</td>\n",
       "      <td>None</td>\n",
       "    </tr>\n",
       "    <tr>\n",
       "      <th>1</th>\n",
       "      <td>892177421306343426</td>\n",
       "      <td>NaN</td>\n",
       "      <td>NaN</td>\n",
       "      <td>2017-08-01 00:17:27 +0000</td>\n",
       "      <td>&lt;a href=\"http://twitter.com/download/iphone\" r...</td>\n",
       "      <td>This is Tilly. She's just checking pup on you....</td>\n",
       "      <td>NaN</td>\n",
       "      <td>NaN</td>\n",
       "      <td>NaN</td>\n",
       "      <td>https://twitter.com/dog_rates/status/892177421...</td>\n",
       "      <td>13</td>\n",
       "      <td>10</td>\n",
       "      <td>Tilly</td>\n",
       "      <td>None</td>\n",
       "      <td>None</td>\n",
       "      <td>None</td>\n",
       "      <td>None</td>\n",
       "    </tr>\n",
       "  </tbody>\n",
       "</table>\n",
       "</div>"
      ],
      "text/plain": [
       "             tweet_id  in_reply_to_status_id  in_reply_to_user_id  \\\n",
       "0  892420643555336193                    NaN                  NaN   \n",
       "1  892177421306343426                    NaN                  NaN   \n",
       "\n",
       "                   timestamp  \\\n",
       "0  2017-08-01 16:23:56 +0000   \n",
       "1  2017-08-01 00:17:27 +0000   \n",
       "\n",
       "                                              source  \\\n",
       "0  <a href=\"http://twitter.com/download/iphone\" r...   \n",
       "1  <a href=\"http://twitter.com/download/iphone\" r...   \n",
       "\n",
       "                                                text  retweeted_status_id  \\\n",
       "0  This is Phineas. He's a mystical boy. Only eve...                  NaN   \n",
       "1  This is Tilly. She's just checking pup on you....                  NaN   \n",
       "\n",
       "   retweeted_status_user_id retweeted_status_timestamp  \\\n",
       "0                       NaN                        NaN   \n",
       "1                       NaN                        NaN   \n",
       "\n",
       "                                       expanded_urls  rating_numerator  \\\n",
       "0  https://twitter.com/dog_rates/status/892420643...                13   \n",
       "1  https://twitter.com/dog_rates/status/892177421...                13   \n",
       "\n",
       "   rating_denominator     name doggo floofer pupper puppo  \n",
       "0                  10  Phineas  None    None   None  None  \n",
       "1                  10    Tilly  None    None   None  None  "
      ]
     },
     "execution_count": 12,
     "metadata": {},
     "output_type": "execute_result"
    }
   ],
   "source": [
    "# to display and asses this dataframe\n",
    "twitter_archive_enhanced.head(2)"
   ]
  },
  {
   "cell_type": "code",
   "execution_count": 13,
   "id": "6315e81e",
   "metadata": {},
   "outputs": [
    {
     "name": "stdout",
     "output_type": "stream",
     "text": [
      "<class 'pandas.core.frame.DataFrame'>\n",
      "RangeIndex: 2356 entries, 0 to 2355\n",
      "Data columns (total 17 columns):\n",
      " #   Column                      Non-Null Count  Dtype  \n",
      "---  ------                      --------------  -----  \n",
      " 0   tweet_id                    2356 non-null   int64  \n",
      " 1   in_reply_to_status_id       78 non-null     float64\n",
      " 2   in_reply_to_user_id         78 non-null     float64\n",
      " 3   timestamp                   2356 non-null   object \n",
      " 4   source                      2356 non-null   object \n",
      " 5   text                        2356 non-null   object \n",
      " 6   retweeted_status_id         181 non-null    float64\n",
      " 7   retweeted_status_user_id    181 non-null    float64\n",
      " 8   retweeted_status_timestamp  181 non-null    object \n",
      " 9   expanded_urls               2297 non-null   object \n",
      " 10  rating_numerator            2356 non-null   int64  \n",
      " 11  rating_denominator          2356 non-null   int64  \n",
      " 12  name                        2356 non-null   object \n",
      " 13  doggo                       2356 non-null   object \n",
      " 14  floofer                     2356 non-null   object \n",
      " 15  pupper                      2356 non-null   object \n",
      " 16  puppo                       2356 non-null   object \n",
      "dtypes: float64(4), int64(3), object(10)\n",
      "memory usage: 313.0+ KB\n"
     ]
    }
   ],
   "source": [
    "twitter_archive_enhanced.info()"
   ]
  },
  {
   "cell_type": "code",
   "execution_count": 14,
   "id": "83836992",
   "metadata": {},
   "outputs": [
    {
     "data": {
      "text/html": [
       "<div>\n",
       "<style scoped>\n",
       "    .dataframe tbody tr th:only-of-type {\n",
       "        vertical-align: middle;\n",
       "    }\n",
       "\n",
       "    .dataframe tbody tr th {\n",
       "        vertical-align: top;\n",
       "    }\n",
       "\n",
       "    .dataframe thead th {\n",
       "        text-align: right;\n",
       "    }\n",
       "</style>\n",
       "<table border=\"1\" class=\"dataframe\">\n",
       "  <thead>\n",
       "    <tr style=\"text-align: right;\">\n",
       "      <th></th>\n",
       "      <th>tweet_id</th>\n",
       "      <th>jpg_url</th>\n",
       "      <th>img_num</th>\n",
       "      <th>p1</th>\n",
       "      <th>p1_conf</th>\n",
       "      <th>p1_dog</th>\n",
       "      <th>p2</th>\n",
       "      <th>p2_conf</th>\n",
       "      <th>p2_dog</th>\n",
       "      <th>p3</th>\n",
       "      <th>p3_conf</th>\n",
       "      <th>p3_dog</th>\n",
       "    </tr>\n",
       "  </thead>\n",
       "  <tbody>\n",
       "    <tr>\n",
       "      <th>0</th>\n",
       "      <td>666020888022790149</td>\n",
       "      <td>https://pbs.twimg.com/media/CT4udn0WwAA0aMy.jpg</td>\n",
       "      <td>1</td>\n",
       "      <td>Welsh_springer_spaniel</td>\n",
       "      <td>0.465074</td>\n",
       "      <td>True</td>\n",
       "      <td>collie</td>\n",
       "      <td>0.156665</td>\n",
       "      <td>True</td>\n",
       "      <td>Shetland_sheepdog</td>\n",
       "      <td>0.061428</td>\n",
       "      <td>True</td>\n",
       "    </tr>\n",
       "    <tr>\n",
       "      <th>1</th>\n",
       "      <td>666029285002620928</td>\n",
       "      <td>https://pbs.twimg.com/media/CT42GRgUYAA5iDo.jpg</td>\n",
       "      <td>1</td>\n",
       "      <td>redbone</td>\n",
       "      <td>0.506826</td>\n",
       "      <td>True</td>\n",
       "      <td>miniature_pinscher</td>\n",
       "      <td>0.074192</td>\n",
       "      <td>True</td>\n",
       "      <td>Rhodesian_ridgeback</td>\n",
       "      <td>0.072010</td>\n",
       "      <td>True</td>\n",
       "    </tr>\n",
       "    <tr>\n",
       "      <th>2</th>\n",
       "      <td>666033412701032449</td>\n",
       "      <td>https://pbs.twimg.com/media/CT4521TWwAEvMyu.jpg</td>\n",
       "      <td>1</td>\n",
       "      <td>German_shepherd</td>\n",
       "      <td>0.596461</td>\n",
       "      <td>True</td>\n",
       "      <td>malinois</td>\n",
       "      <td>0.138584</td>\n",
       "      <td>True</td>\n",
       "      <td>bloodhound</td>\n",
       "      <td>0.116197</td>\n",
       "      <td>True</td>\n",
       "    </tr>\n",
       "    <tr>\n",
       "      <th>3</th>\n",
       "      <td>666044226329800704</td>\n",
       "      <td>https://pbs.twimg.com/media/CT5Dr8HUEAA-lEu.jpg</td>\n",
       "      <td>1</td>\n",
       "      <td>Rhodesian_ridgeback</td>\n",
       "      <td>0.408143</td>\n",
       "      <td>True</td>\n",
       "      <td>redbone</td>\n",
       "      <td>0.360687</td>\n",
       "      <td>True</td>\n",
       "      <td>miniature_pinscher</td>\n",
       "      <td>0.222752</td>\n",
       "      <td>True</td>\n",
       "    </tr>\n",
       "    <tr>\n",
       "      <th>4</th>\n",
       "      <td>666049248165822465</td>\n",
       "      <td>https://pbs.twimg.com/media/CT5IQmsXIAAKY4A.jpg</td>\n",
       "      <td>1</td>\n",
       "      <td>miniature_pinscher</td>\n",
       "      <td>0.560311</td>\n",
       "      <td>True</td>\n",
       "      <td>Rottweiler</td>\n",
       "      <td>0.243682</td>\n",
       "      <td>True</td>\n",
       "      <td>Doberman</td>\n",
       "      <td>0.154629</td>\n",
       "      <td>True</td>\n",
       "    </tr>\n",
       "  </tbody>\n",
       "</table>\n",
       "</div>"
      ],
      "text/plain": [
       "             tweet_id                                          jpg_url  \\\n",
       "0  666020888022790149  https://pbs.twimg.com/media/CT4udn0WwAA0aMy.jpg   \n",
       "1  666029285002620928  https://pbs.twimg.com/media/CT42GRgUYAA5iDo.jpg   \n",
       "2  666033412701032449  https://pbs.twimg.com/media/CT4521TWwAEvMyu.jpg   \n",
       "3  666044226329800704  https://pbs.twimg.com/media/CT5Dr8HUEAA-lEu.jpg   \n",
       "4  666049248165822465  https://pbs.twimg.com/media/CT5IQmsXIAAKY4A.jpg   \n",
       "\n",
       "   img_num                      p1   p1_conf  p1_dog                  p2  \\\n",
       "0        1  Welsh_springer_spaniel  0.465074    True              collie   \n",
       "1        1                 redbone  0.506826    True  miniature_pinscher   \n",
       "2        1         German_shepherd  0.596461    True            malinois   \n",
       "3        1     Rhodesian_ridgeback  0.408143    True             redbone   \n",
       "4        1      miniature_pinscher  0.560311    True          Rottweiler   \n",
       "\n",
       "    p2_conf  p2_dog                   p3   p3_conf  p3_dog  \n",
       "0  0.156665    True    Shetland_sheepdog  0.061428    True  \n",
       "1  0.074192    True  Rhodesian_ridgeback  0.072010    True  \n",
       "2  0.138584    True           bloodhound  0.116197    True  \n",
       "3  0.360687    True   miniature_pinscher  0.222752    True  \n",
       "4  0.243682    True             Doberman  0.154629    True  "
      ]
     },
     "execution_count": 14,
     "metadata": {},
     "output_type": "execute_result"
    }
   ],
   "source": [
    "df_image.head()"
   ]
  },
  {
   "cell_type": "code",
   "execution_count": 15,
   "id": "67e45b74",
   "metadata": {},
   "outputs": [
    {
     "name": "stdout",
     "output_type": "stream",
     "text": [
      "<class 'pandas.core.frame.DataFrame'>\n",
      "RangeIndex: 2075 entries, 0 to 2074\n",
      "Data columns (total 12 columns):\n",
      " #   Column    Non-Null Count  Dtype  \n",
      "---  ------    --------------  -----  \n",
      " 0   tweet_id  2075 non-null   int64  \n",
      " 1   jpg_url   2075 non-null   object \n",
      " 2   img_num   2075 non-null   int64  \n",
      " 3   p1        2075 non-null   object \n",
      " 4   p1_conf   2075 non-null   float64\n",
      " 5   p1_dog    2075 non-null   bool   \n",
      " 6   p2        2075 non-null   object \n",
      " 7   p2_conf   2075 non-null   float64\n",
      " 8   p2_dog    2075 non-null   bool   \n",
      " 9   p3        2075 non-null   object \n",
      " 10  p3_conf   2075 non-null   float64\n",
      " 11  p3_dog    2075 non-null   bool   \n",
      "dtypes: bool(3), float64(3), int64(2), object(4)\n",
      "memory usage: 152.1+ KB\n"
     ]
    }
   ],
   "source": [
    "df_image.info()"
   ]
  },
  {
   "cell_type": "code",
   "execution_count": 16,
   "id": "d75cfab8",
   "metadata": {},
   "outputs": [
    {
     "data": {
      "text/html": [
       "<div>\n",
       "<style scoped>\n",
       "    .dataframe tbody tr th:only-of-type {\n",
       "        vertical-align: middle;\n",
       "    }\n",
       "\n",
       "    .dataframe tbody tr th {\n",
       "        vertical-align: top;\n",
       "    }\n",
       "\n",
       "    .dataframe thead th {\n",
       "        text-align: right;\n",
       "    }\n",
       "</style>\n",
       "<table border=\"1\" class=\"dataframe\">\n",
       "  <thead>\n",
       "    <tr style=\"text-align: right;\">\n",
       "      <th></th>\n",
       "      <th>id</th>\n",
       "      <th>retweet_count</th>\n",
       "      <th>favorite_count</th>\n",
       "    </tr>\n",
       "  </thead>\n",
       "  <tbody>\n",
       "    <tr>\n",
       "      <th>0</th>\n",
       "      <td>892420643555336193</td>\n",
       "      <td>8853</td>\n",
       "      <td>39467</td>\n",
       "    </tr>\n",
       "    <tr>\n",
       "      <th>1</th>\n",
       "      <td>892177421306343426</td>\n",
       "      <td>6514</td>\n",
       "      <td>33819</td>\n",
       "    </tr>\n",
       "    <tr>\n",
       "      <th>2</th>\n",
       "      <td>891815181378084864</td>\n",
       "      <td>4328</td>\n",
       "      <td>25461</td>\n",
       "    </tr>\n",
       "    <tr>\n",
       "      <th>3</th>\n",
       "      <td>891689557279858688</td>\n",
       "      <td>8964</td>\n",
       "      <td>42908</td>\n",
       "    </tr>\n",
       "    <tr>\n",
       "      <th>4</th>\n",
       "      <td>891327558926688256</td>\n",
       "      <td>9774</td>\n",
       "      <td>41048</td>\n",
       "    </tr>\n",
       "  </tbody>\n",
       "</table>\n",
       "</div>"
      ],
      "text/plain": [
       "                   id  retweet_count  favorite_count\n",
       "0  892420643555336193           8853           39467\n",
       "1  892177421306343426           6514           33819\n",
       "2  891815181378084864           4328           25461\n",
       "3  891689557279858688           8964           42908\n",
       "4  891327558926688256           9774           41048"
      ]
     },
     "execution_count": 16,
     "metadata": {},
     "output_type": "execute_result"
    }
   ],
   "source": [
    "df_json.head()"
   ]
  },
  {
   "cell_type": "code",
   "execution_count": 17,
   "id": "37fd5ce8",
   "metadata": {},
   "outputs": [
    {
     "name": "stdout",
     "output_type": "stream",
     "text": [
      "<class 'pandas.core.frame.DataFrame'>\n",
      "RangeIndex: 2354 entries, 0 to 2353\n",
      "Data columns (total 3 columns):\n",
      " #   Column          Non-Null Count  Dtype\n",
      "---  ------          --------------  -----\n",
      " 0   id              2354 non-null   int64\n",
      " 1   retweet_count   2354 non-null   int64\n",
      " 2   favorite_count  2354 non-null   int64\n",
      "dtypes: int64(3)\n",
      "memory usage: 55.3 KB\n"
     ]
    }
   ],
   "source": [
    "df_json.info()"
   ]
  },
  {
   "cell_type": "markdown",
   "id": "9667c9a6",
   "metadata": {},
   "source": [
    "# Quality Issues\n",
    "1. Drop tweets with no images in the twitter_achive_enhanced dataframe\n",
    "1. Drop non dogs record\n",
    "2. Some names in the name column in the twitter_achive_enhanced dataframe appear to be incorrect, \"a\", for example.\n",
    "2. Drop retweet_id's in the twitter_achive_enhanced, we are only interested in the original tweets\n",
    "4. There are unnecessary colums in the Twitter_Archive_enhanced dataframe not relevant for analysis such as \n",
    "   ('in_reply_to_status_id' , 'in_reply_to_user_id' , 'source' ,    'retweeted_status_id','retweeted_status_user_id','retweeted_status_timestamp' ,'expanded_urls'), drop them\n",
    "\n",
    "5. The colums in the df_image dataframe are not descriptive enough and needs to be renamed.\n",
    "6. The Timestamp column in the twitter_archive_enhanced dataframe should be datatime datatype not object.\n",
    "7. The tweet_id datatype should be changed from integer to string\n",
    "8. Id column in the df_json should be renamed to tweet_id as in the other two dataframe\n",
    "9. The none values in doggo,floofer,pupper,puppo should be replaces with nan or a blank space\n",
    "10. There are missing values in some of the twitter_archive_enhanced columns\n",
    "11. Remove unnecessary columns such as jpg_url, 'p2','p2_conf', 'p2_dog', 'p3', 'p3_conf', 'p3_dog' from                  df_image dataframe\n",
    "9. Drop all the non dogs record in 'p1_dog' in the df_image_clean dataframe"
   ]
  },
  {
   "cell_type": "markdown",
   "id": "99a7c975",
   "metadata": {},
   "source": [
    "# Tidyness Issues\n",
    "\n",
    "1. The dog stages doggo,floofer,pupper,puppo should be in a one descriptive column 'Stage'.\n",
    "2. The twitter_archive_enhanced should merge with df_image dataframe on tweet_id, and then with df_json on        tweet_id after cleaning."
   ]
  },
  {
   "cell_type": "markdown",
   "id": "9b49a587",
   "metadata": {},
   "source": [
    "# Cleaning"
   ]
  },
  {
   "cell_type": "code",
   "execution_count": 18,
   "id": "771b8c94",
   "metadata": {},
   "outputs": [],
   "source": [
    "# Make copies of original pieces of data\n",
    "twitter_archive_enhanced_clean = twitter_archive_enhanced.copy()\n",
    "df_image_clean = df_image.copy()\n",
    "df_json_clean = df_json.copy()"
   ]
  },
  {
   "cell_type": "markdown",
   "id": "71929b9a",
   "metadata": {},
   "source": [
    "Define:\n",
    "\n",
    "Quality issue 1: to check for tweets that has images"
   ]
  },
  {
   "cell_type": "markdown",
   "id": "a53d1a9a",
   "metadata": {},
   "source": [
    "Code"
   ]
  },
  {
   "cell_type": "code",
   "execution_count": 19,
   "id": "d201415e",
   "metadata": {},
   "outputs": [
    {
     "data": {
      "text/plain": [
       "False"
      ]
     },
     "execution_count": 19,
     "metadata": {},
     "output_type": "execute_result"
    }
   ],
   "source": [
    "# As rating of dogs in each tweet mainly depends on image.\n",
    "# Check if the number of tweets in twitter_archive_enhanced == number of tweets that have images in df_image\n",
    "\n",
    "twitter_archive_enhanced_clean['tweet_id'].size == df_image_clean['tweet_id'].size"
   ]
  },
  {
   "cell_type": "code",
   "execution_count": 20,
   "id": "db33d0fc",
   "metadata": {},
   "outputs": [],
   "source": [
    "# since it's false, filter twitter_archive to only have tweets having images in df_image dataframe\n",
    "twitter_archive_enhanced_clean = twitter_archive_enhanced_clean[twitter_archive_enhanced_clean['tweet_id'].isin(df_image_clean['tweet_id'].unique())]\n",
    "\n",
    "# source code: https://www.kaggle.com/code/shaltout/explore-weratedogs-twitter-archive#Gathering-Data"
   ]
  },
  {
   "cell_type": "markdown",
   "id": "ab3cb4f6",
   "metadata": {},
   "source": [
    "Test"
   ]
  },
  {
   "cell_type": "code",
   "execution_count": 21,
   "id": "fa7f7748",
   "metadata": {},
   "outputs": [
    {
     "data": {
      "text/plain": [
       "True"
      ]
     },
     "execution_count": 21,
     "metadata": {},
     "output_type": "execute_result"
    }
   ],
   "source": [
    "# Test that all tweets in twitter_archive have images in img_pred:\n",
    "\n",
    "twitter_archive_enhanced_clean['tweet_id'].size == df_image_clean['tweet_id'].size"
   ]
  },
  {
   "cell_type": "markdown",
   "id": "df907f96",
   "metadata": {},
   "source": [
    "Define:\n",
    "\n",
    "Quality isssue 2: remove all non dog records"
   ]
  },
  {
   "cell_type": "markdown",
   "id": "24e0027b",
   "metadata": {},
   "source": [
    "Code"
   ]
  },
  {
   "cell_type": "code",
   "execution_count": 22,
   "id": "2c14d382",
   "metadata": {},
   "outputs": [],
   "source": [
    "# check for non dogs record in the df_image_clean dataframe\n",
    "\n",
    "df_image_clean['p1_dog'].unique()\n",
    "non_dogs = df_image_clean[df_image_clean['p1_dog']== False].index\n",
    "\n",
    "#source code: shorturl.at/abglq"
   ]
  },
  {
   "cell_type": "code",
   "execution_count": 23,
   "id": "feac2f37",
   "metadata": {},
   "outputs": [],
   "source": [
    "# Drop all non dogs records from df_image dataframe as  only dogs rating is needed:\n",
    "df_image_clean.drop(non_dogs, inplace = True)"
   ]
  },
  {
   "cell_type": "markdown",
   "id": "586e17b9",
   "metadata": {},
   "source": [
    "Test"
   ]
  },
  {
   "cell_type": "code",
   "execution_count": 24,
   "id": "485f1f30",
   "metadata": {},
   "outputs": [
    {
     "data": {
      "text/html": [
       "<div>\n",
       "<style scoped>\n",
       "    .dataframe tbody tr th:only-of-type {\n",
       "        vertical-align: middle;\n",
       "    }\n",
       "\n",
       "    .dataframe tbody tr th {\n",
       "        vertical-align: top;\n",
       "    }\n",
       "\n",
       "    .dataframe thead th {\n",
       "        text-align: right;\n",
       "    }\n",
       "</style>\n",
       "<table border=\"1\" class=\"dataframe\">\n",
       "  <thead>\n",
       "    <tr style=\"text-align: right;\">\n",
       "      <th></th>\n",
       "      <th>tweet_id</th>\n",
       "      <th>jpg_url</th>\n",
       "      <th>img_num</th>\n",
       "      <th>p1</th>\n",
       "      <th>p1_conf</th>\n",
       "      <th>p1_dog</th>\n",
       "      <th>p2</th>\n",
       "      <th>p2_conf</th>\n",
       "      <th>p2_dog</th>\n",
       "      <th>p3</th>\n",
       "      <th>p3_conf</th>\n",
       "      <th>p3_dog</th>\n",
       "    </tr>\n",
       "  </thead>\n",
       "  <tbody>\n",
       "  </tbody>\n",
       "</table>\n",
       "</div>"
      ],
      "text/plain": [
       "Empty DataFrame\n",
       "Columns: [tweet_id, jpg_url, img_num, p1, p1_conf, p1_dog, p2, p2_conf, p2_dog, p3, p3_conf, p3_dog]\n",
       "Index: []"
      ]
     },
     "execution_count": 24,
     "metadata": {},
     "output_type": "execute_result"
    }
   ],
   "source": [
    "# test that all non dogs records are dropped\n",
    "df_image_clean[df_image_clean['p1_dog'] == False]"
   ]
  },
  {
   "cell_type": "markdown",
   "id": "bdabe5ce",
   "metadata": {},
   "source": [
    "Define:\n",
    "\n",
    "Quality issue 3: name column appear to be incorrect, for example \"a\", for "
   ]
  },
  {
   "cell_type": "markdown",
   "id": "b3941d9b",
   "metadata": {},
   "source": [
    "code:"
   ]
  },
  {
   "cell_type": "code",
   "execution_count": 25,
   "id": "f6515ba9",
   "metadata": {},
   "outputs": [
    {
     "data": {
      "text/plain": [
       "None          578\n",
       "a              55\n",
       "Charlie        11\n",
       "Penny          10\n",
       "Oliver         10\n",
       "             ... \n",
       "Lenox           1\n",
       "Tilly           1\n",
       "Harvey          1\n",
       "Blanket         1\n",
       "Christoper      1\n",
       "Name: name, Length: 936, dtype: int64"
      ]
     },
     "execution_count": 25,
     "metadata": {},
     "output_type": "execute_result"
    }
   ],
   "source": [
    "twitter_archive_enhanced_clean['name'].value_counts()"
   ]
  },
  {
   "cell_type": "code",
   "execution_count": 26,
   "id": "0436b1cd",
   "metadata": {},
   "outputs": [
    {
     "data": {
      "text/plain": [
       "a               55\n",
       "actually         1\n",
       "all              1\n",
       "an               7\n",
       "by               1\n",
       "getting          2\n",
       "his              1\n",
       "incredibly       1\n",
       "infuriating      1\n",
       "just             4\n",
       "light            1\n",
       "my               1\n",
       "not              1\n",
       "officially       1\n",
       "one              4\n",
       "quite            3\n",
       "space            1\n",
       "such             1\n",
       "the              7\n",
       "this             1\n",
       "unacceptable     1\n",
       "very             4\n",
       "Name: name, dtype: int64"
      ]
     },
     "execution_count": 26,
     "metadata": {},
     "output_type": "execute_result"
    }
   ],
   "source": [
    "#list names in lowercase \n",
    "no_names = twitter_archive_enhanced_clean.name.str.contains('^[a-z]', regex = True)\n",
    "twitter_archive_enhanced_clean[no_names].name.value_counts().sort_index()\n"
   ]
  },
  {
   "cell_type": "code",
   "execution_count": 27,
   "id": "40fa675c",
   "metadata": {},
   "outputs": [],
   "source": [
    "# replace all remaining lowercase names with NaN\n",
    "twitter_archive_enhanced_clean.loc[twitter_archive_enhanced_clean['name'].str.contains(r'^[^A-Z].*$'), 'name'] = np.nan\n"
   ]
  },
  {
   "cell_type": "code",
   "execution_count": 28,
   "id": "4ea7756f",
   "metadata": {},
   "outputs": [],
   "source": [
    "# replace all 'None' names with NaN\n",
    "twitter_archive_enhanced_clean.loc[twitter_archive_enhanced_clean['name']=='None', 'name'] = np.nan"
   ]
  },
  {
   "cell_type": "markdown",
   "id": "ae55a36f",
   "metadata": {},
   "source": [
    "Test"
   ]
  },
  {
   "cell_type": "code",
   "execution_count": 29,
   "id": "be3407e9",
   "metadata": {},
   "outputs": [
    {
     "data": {
      "text/plain": [
       "Charlie       11\n",
       "Cooper        10\n",
       "Lucy          10\n",
       "Tucker        10\n",
       "Oliver        10\n",
       "              ..\n",
       "Lenox          1\n",
       "Tilly          1\n",
       "Harvey         1\n",
       "Blanket        1\n",
       "Christoper     1\n",
       "Name: name, Length: 913, dtype: int64"
      ]
     },
     "execution_count": 29,
     "metadata": {},
     "output_type": "execute_result"
    }
   ],
   "source": [
    "twitter_archive_enhanced_clean['name'].value_counts()"
   ]
  },
  {
   "cell_type": "code",
   "execution_count": 30,
   "id": "ba627dd2",
   "metadata": {},
   "outputs": [
    {
     "data": {
      "text/plain": [
       "array([nan], dtype=object)"
      ]
     },
     "execution_count": 30,
     "metadata": {},
     "output_type": "execute_result"
    }
   ],
   "source": [
    "# check for remaining lowercase names\n",
    "twitter_archive_enhanced_clean['name'].str.extract('(^[^A-Z].*$)')[0].unique()"
   ]
  },
  {
   "cell_type": "markdown",
   "id": "d5d1aba7",
   "metadata": {},
   "source": [
    "Define:\n",
    "\n",
    "Quality issue 4: remove retweets and have only original tweets"
   ]
  },
  {
   "cell_type": "markdown",
   "id": "fdec4144",
   "metadata": {},
   "source": [
    "Code"
   ]
  },
  {
   "cell_type": "code",
   "execution_count": 31,
   "id": "19c4a543",
   "metadata": {},
   "outputs": [],
   "source": [
    "# Filter twitter_archive to only have original tweets and remove all retweets:\n",
    "\n",
    "twitter_archive_enhanced_clean = twitter_archive_enhanced_clean[twitter_archive_enhanced_clean['retweeted_status_id'].isnull()]"
   ]
  },
  {
   "cell_type": "markdown",
   "id": "ac2254dd",
   "metadata": {},
   "source": [
    "Test"
   ]
  },
  {
   "cell_type": "code",
   "execution_count": 32,
   "id": "ef9bd12b",
   "metadata": {},
   "outputs": [
    {
     "data": {
      "text/plain": [
       "array([nan])"
      ]
     },
     "execution_count": 32,
     "metadata": {},
     "output_type": "execute_result"
    }
   ],
   "source": [
    "# Test that all tweets in twitter_archive_enhanced_clean does not have retweet_id\n",
    "\n",
    "twitter_archive_enhanced_clean['retweeted_status_id'].unique()"
   ]
  },
  {
   "cell_type": "markdown",
   "id": "53ea60c3",
   "metadata": {},
   "source": [
    "Define:\n",
    "\n",
    "Quality Issue 5: Drop all columns not necessary for ananlysis"
   ]
  },
  {
   "cell_type": "markdown",
   "id": "e633a687",
   "metadata": {},
   "source": [
    "Code"
   ]
  },
  {
   "cell_type": "code",
   "execution_count": 33,
   "id": "b80c7ae2",
   "metadata": {},
   "outputs": [],
   "source": [
    "\n",
    "# Drop all the colums not relevant for analysis \n",
    "\n",
    "\n",
    "drop_column = ['in_reply_to_status_id' , 'in_reply_to_user_id' , 'source' , 'retweeted_status_id',\n",
    "             'retweeted_status_user_id','retweeted_status_timestamp' ,'expanded_urls']\n",
    "\n",
    "twitter_archive_enhanced_clean.drop(drop_column , inplace =True , axis=1)\n",
    "\n",
    "#source code:shorturl.at/abglq"
   ]
  },
  {
   "cell_type": "markdown",
   "id": "afafe828",
   "metadata": {},
   "source": [
    "Test"
   ]
  },
  {
   "cell_type": "code",
   "execution_count": 34,
   "id": "5d646ac2",
   "metadata": {},
   "outputs": [
    {
     "data": {
      "text/html": [
       "<div>\n",
       "<style scoped>\n",
       "    .dataframe tbody tr th:only-of-type {\n",
       "        vertical-align: middle;\n",
       "    }\n",
       "\n",
       "    .dataframe tbody tr th {\n",
       "        vertical-align: top;\n",
       "    }\n",
       "\n",
       "    .dataframe thead th {\n",
       "        text-align: right;\n",
       "    }\n",
       "</style>\n",
       "<table border=\"1\" class=\"dataframe\">\n",
       "  <thead>\n",
       "    <tr style=\"text-align: right;\">\n",
       "      <th></th>\n",
       "      <th>tweet_id</th>\n",
       "      <th>timestamp</th>\n",
       "      <th>text</th>\n",
       "      <th>rating_numerator</th>\n",
       "      <th>rating_denominator</th>\n",
       "      <th>name</th>\n",
       "      <th>doggo</th>\n",
       "      <th>floofer</th>\n",
       "      <th>pupper</th>\n",
       "      <th>puppo</th>\n",
       "    </tr>\n",
       "  </thead>\n",
       "  <tbody>\n",
       "    <tr>\n",
       "      <th>0</th>\n",
       "      <td>892420643555336193</td>\n",
       "      <td>2017-08-01 16:23:56 +0000</td>\n",
       "      <td>This is Phineas. He's a mystical boy. Only eve...</td>\n",
       "      <td>13</td>\n",
       "      <td>10</td>\n",
       "      <td>Phineas</td>\n",
       "      <td>None</td>\n",
       "      <td>None</td>\n",
       "      <td>None</td>\n",
       "      <td>None</td>\n",
       "    </tr>\n",
       "    <tr>\n",
       "      <th>1</th>\n",
       "      <td>892177421306343426</td>\n",
       "      <td>2017-08-01 00:17:27 +0000</td>\n",
       "      <td>This is Tilly. She's just checking pup on you....</td>\n",
       "      <td>13</td>\n",
       "      <td>10</td>\n",
       "      <td>Tilly</td>\n",
       "      <td>None</td>\n",
       "      <td>None</td>\n",
       "      <td>None</td>\n",
       "      <td>None</td>\n",
       "    </tr>\n",
       "    <tr>\n",
       "      <th>2</th>\n",
       "      <td>891815181378084864</td>\n",
       "      <td>2017-07-31 00:18:03 +0000</td>\n",
       "      <td>This is Archie. He is a rare Norwegian Pouncin...</td>\n",
       "      <td>12</td>\n",
       "      <td>10</td>\n",
       "      <td>Archie</td>\n",
       "      <td>None</td>\n",
       "      <td>None</td>\n",
       "      <td>None</td>\n",
       "      <td>None</td>\n",
       "    </tr>\n",
       "    <tr>\n",
       "      <th>3</th>\n",
       "      <td>891689557279858688</td>\n",
       "      <td>2017-07-30 15:58:51 +0000</td>\n",
       "      <td>This is Darla. She commenced a snooze mid meal...</td>\n",
       "      <td>13</td>\n",
       "      <td>10</td>\n",
       "      <td>Darla</td>\n",
       "      <td>None</td>\n",
       "      <td>None</td>\n",
       "      <td>None</td>\n",
       "      <td>None</td>\n",
       "    </tr>\n",
       "    <tr>\n",
       "      <th>4</th>\n",
       "      <td>891327558926688256</td>\n",
       "      <td>2017-07-29 16:00:24 +0000</td>\n",
       "      <td>This is Franklin. He would like you to stop ca...</td>\n",
       "      <td>12</td>\n",
       "      <td>10</td>\n",
       "      <td>Franklin</td>\n",
       "      <td>None</td>\n",
       "      <td>None</td>\n",
       "      <td>None</td>\n",
       "      <td>None</td>\n",
       "    </tr>\n",
       "  </tbody>\n",
       "</table>\n",
       "</div>"
      ],
      "text/plain": [
       "             tweet_id                  timestamp  \\\n",
       "0  892420643555336193  2017-08-01 16:23:56 +0000   \n",
       "1  892177421306343426  2017-08-01 00:17:27 +0000   \n",
       "2  891815181378084864  2017-07-31 00:18:03 +0000   \n",
       "3  891689557279858688  2017-07-30 15:58:51 +0000   \n",
       "4  891327558926688256  2017-07-29 16:00:24 +0000   \n",
       "\n",
       "                                                text  rating_numerator  \\\n",
       "0  This is Phineas. He's a mystical boy. Only eve...                13   \n",
       "1  This is Tilly. She's just checking pup on you....                13   \n",
       "2  This is Archie. He is a rare Norwegian Pouncin...                12   \n",
       "3  This is Darla. She commenced a snooze mid meal...                13   \n",
       "4  This is Franklin. He would like you to stop ca...                12   \n",
       "\n",
       "   rating_denominator      name doggo floofer pupper puppo  \n",
       "0                  10   Phineas  None    None   None  None  \n",
       "1                  10     Tilly  None    None   None  None  \n",
       "2                  10    Archie  None    None   None  None  \n",
       "3                  10     Darla  None    None   None  None  \n",
       "4                  10  Franklin  None    None   None  None  "
      ]
     },
     "execution_count": 34,
     "metadata": {},
     "output_type": "execute_result"
    }
   ],
   "source": [
    "# Test to see the remaining columns\n",
    "twitter_archive_enhanced_clean.head()"
   ]
  },
  {
   "cell_type": "markdown",
   "id": "ffdba395",
   "metadata": {},
   "source": [
    "Define\n",
    "\n",
    "# Tidyness issue 1: put doggo, floofer, pupper, puppo  in one column 'Stage'"
   ]
  },
  {
   "cell_type": "markdown",
   "id": "110e6d19",
   "metadata": {},
   "source": [
    "Code"
   ]
  },
  {
   "cell_type": "code",
   "execution_count": 35,
   "id": "de46ed7c",
   "metadata": {},
   "outputs": [],
   "source": [
    "# Repace \"None\" values in the ['doggo', 'floofer', 'pupper', 'puppo']  columns by balnk text '':\n",
    "\n",
    "twitter_archive_enhanced_clean[['doggo', 'floofer', 'pupper', 'puppo']]= twitter_archive_enhanced_clean[['doggo', 'floofer', 'pupper', 'puppo']].replace('None' , '')"
   ]
  },
  {
   "cell_type": "code",
   "execution_count": 36,
   "id": "0ecc81f4",
   "metadata": {},
   "outputs": [
    {
     "data": {
      "text/plain": [
       "array(['', 'puppo'], dtype=object)"
      ]
     },
     "execution_count": 36,
     "metadata": {},
     "output_type": "execute_result"
    }
   ],
   "source": [
    "# confirm that its replaced\n",
    "\n",
    "twitter_archive_enhanced_clean['puppo'].unique()"
   ]
  },
  {
   "cell_type": "code",
   "execution_count": 37,
   "id": "68204d33",
   "metadata": {},
   "outputs": [
    {
     "data": {
      "text/html": [
       "<div>\n",
       "<style scoped>\n",
       "    .dataframe tbody tr th:only-of-type {\n",
       "        vertical-align: middle;\n",
       "    }\n",
       "\n",
       "    .dataframe tbody tr th {\n",
       "        vertical-align: top;\n",
       "    }\n",
       "\n",
       "    .dataframe thead th {\n",
       "        text-align: right;\n",
       "    }\n",
       "</style>\n",
       "<table border=\"1\" class=\"dataframe\">\n",
       "  <thead>\n",
       "    <tr style=\"text-align: right;\">\n",
       "      <th></th>\n",
       "      <th>doggo</th>\n",
       "      <th>floofer</th>\n",
       "      <th>pupper</th>\n",
       "      <th>puppo</th>\n",
       "      <th>count</th>\n",
       "    </tr>\n",
       "  </thead>\n",
       "  <tbody>\n",
       "    <tr>\n",
       "      <th>0</th>\n",
       "      <td></td>\n",
       "      <td></td>\n",
       "      <td></td>\n",
       "      <td></td>\n",
       "      <td>1688</td>\n",
       "    </tr>\n",
       "    <tr>\n",
       "      <th>1</th>\n",
       "      <td></td>\n",
       "      <td></td>\n",
       "      <td></td>\n",
       "      <td>puppo</td>\n",
       "      <td>22</td>\n",
       "    </tr>\n",
       "    <tr>\n",
       "      <th>2</th>\n",
       "      <td></td>\n",
       "      <td></td>\n",
       "      <td>pupper</td>\n",
       "      <td></td>\n",
       "      <td>203</td>\n",
       "    </tr>\n",
       "    <tr>\n",
       "      <th>3</th>\n",
       "      <td></td>\n",
       "      <td>floofer</td>\n",
       "      <td></td>\n",
       "      <td></td>\n",
       "      <td>7</td>\n",
       "    </tr>\n",
       "    <tr>\n",
       "      <th>4</th>\n",
       "      <td>doggo</td>\n",
       "      <td></td>\n",
       "      <td></td>\n",
       "      <td></td>\n",
       "      <td>63</td>\n",
       "    </tr>\n",
       "    <tr>\n",
       "      <th>5</th>\n",
       "      <td>doggo</td>\n",
       "      <td></td>\n",
       "      <td></td>\n",
       "      <td>puppo</td>\n",
       "      <td>1</td>\n",
       "    </tr>\n",
       "    <tr>\n",
       "      <th>6</th>\n",
       "      <td>doggo</td>\n",
       "      <td></td>\n",
       "      <td>pupper</td>\n",
       "      <td></td>\n",
       "      <td>9</td>\n",
       "    </tr>\n",
       "    <tr>\n",
       "      <th>7</th>\n",
       "      <td>doggo</td>\n",
       "      <td>floofer</td>\n",
       "      <td></td>\n",
       "      <td></td>\n",
       "      <td>1</td>\n",
       "    </tr>\n",
       "  </tbody>\n",
       "</table>\n",
       "</div>"
      ],
      "text/plain": [
       "   doggo  floofer  pupper  puppo  count\n",
       "0                                  1688\n",
       "1                          puppo     22\n",
       "2                  pupper           203\n",
       "3         floofer                     7\n",
       "4  doggo                             63\n",
       "5  doggo                   puppo      1\n",
       "6  doggo           pupper             9\n",
       "7  doggo  floofer                     1"
      ]
     },
     "execution_count": 37,
     "metadata": {},
     "output_type": "execute_result"
    }
   ],
   "source": [
    "twitter_archive_enhanced_clean.groupby([\"doggo\", \"floofer\", \"pupper\", \"puppo\"]).size().reset_index().rename(columns={0: \"count\"})"
   ]
  },
  {
   "cell_type": "code",
   "execution_count": 38,
   "id": "c4ba8b3f",
   "metadata": {
    "scrolled": true
   },
   "outputs": [],
   "source": [
    "\n",
    "# Merge the 'doggo', 'floofer', 'pupper', 'puppo' in twitter_archive_enhanced _clean should in one column 'Stage'\n",
    "#one variable should be represented in one column to be tidy\n",
    "\n",
    "twitter_archive_enhanced_clean['stage'] = twitter_archive_enhanced_clean['doggo'] +twitter_archive_enhanced_clean['floofer'] + twitter_archive_enhanced_clean['pupper'] + twitter_archive_enhanced_clean['puppo']\n",
    "\n",
    "#source code:udacity classroom"
   ]
  },
  {
   "cell_type": "code",
   "execution_count": 39,
   "id": "c722bd67",
   "metadata": {},
   "outputs": [],
   "source": [
    "# separate two dog stages by \",\"\n",
    "twitter_archive_enhanced_clean.loc[twitter_archive_enhanced_clean.stage == 'doggopupper', 'stage'] = 'doggo, pupper'\n",
    "twitter_archive_enhanced_clean.loc[twitter_archive_enhanced_clean.stage == 'doggopuppo', 'stage'] = 'doggo, puppo'\n",
    "twitter_archive_enhanced_clean.loc[twitter_archive_enhanced_clean.stage == 'doggofloofer', 'stage'] = 'doggo, floofer'"
   ]
  },
  {
   "cell_type": "code",
   "execution_count": 40,
   "id": "d76b2002",
   "metadata": {},
   "outputs": [],
   "source": [
    "# Replace blank text value in stage column by np.nan:\n",
    "\n",
    "twitter_archive_enhanced_clean['stage'] = twitter_archive_enhanced_clean['stage'].replace('', np.nan)\n",
    "\n",
    "#source code:shorturl.at/abglq"
   ]
  },
  {
   "cell_type": "code",
   "execution_count": 41,
   "id": "bd31358e",
   "metadata": {},
   "outputs": [],
   "source": [
    "# Drop 'doggo', 'puppo', 'pupper', 'floofer' columns \n",
    "\n",
    "drop_list = ['doggo', 'puppo', 'pupper', 'floofer']\n",
    "twitter_archive_enhanced_clean.drop(drop_list , axis=1 , inplace= True)"
   ]
  },
  {
   "cell_type": "markdown",
   "id": "3e1fff81",
   "metadata": {},
   "source": [
    "Test"
   ]
  },
  {
   "cell_type": "code",
   "execution_count": 42,
   "id": "c5016ecc",
   "metadata": {},
   "outputs": [
    {
     "data": {
      "text/plain": [
       "pupper            203\n",
       "doggo              63\n",
       "puppo              22\n",
       "doggo, pupper       9\n",
       "floofer             7\n",
       "doggo, puppo        1\n",
       "doggo, floofer      1\n",
       "Name: stage, dtype: int64"
      ]
     },
     "execution_count": 42,
     "metadata": {},
     "output_type": "execute_result"
    }
   ],
   "source": [
    "twitter_archive_enhanced_clean['stage'].value_counts()"
   ]
  },
  {
   "cell_type": "code",
   "execution_count": 43,
   "id": "ed24a711",
   "metadata": {},
   "outputs": [
    {
     "data": {
      "text/html": [
       "<div>\n",
       "<style scoped>\n",
       "    .dataframe tbody tr th:only-of-type {\n",
       "        vertical-align: middle;\n",
       "    }\n",
       "\n",
       "    .dataframe tbody tr th {\n",
       "        vertical-align: top;\n",
       "    }\n",
       "\n",
       "    .dataframe thead th {\n",
       "        text-align: right;\n",
       "    }\n",
       "</style>\n",
       "<table border=\"1\" class=\"dataframe\">\n",
       "  <thead>\n",
       "    <tr style=\"text-align: right;\">\n",
       "      <th></th>\n",
       "      <th>tweet_id</th>\n",
       "      <th>timestamp</th>\n",
       "      <th>text</th>\n",
       "      <th>rating_numerator</th>\n",
       "      <th>rating_denominator</th>\n",
       "      <th>name</th>\n",
       "      <th>stage</th>\n",
       "    </tr>\n",
       "  </thead>\n",
       "  <tbody>\n",
       "    <tr>\n",
       "      <th>0</th>\n",
       "      <td>892420643555336193</td>\n",
       "      <td>2017-08-01 16:23:56 +0000</td>\n",
       "      <td>This is Phineas. He's a mystical boy. Only eve...</td>\n",
       "      <td>13</td>\n",
       "      <td>10</td>\n",
       "      <td>Phineas</td>\n",
       "      <td>NaN</td>\n",
       "    </tr>\n",
       "    <tr>\n",
       "      <th>1</th>\n",
       "      <td>892177421306343426</td>\n",
       "      <td>2017-08-01 00:17:27 +0000</td>\n",
       "      <td>This is Tilly. She's just checking pup on you....</td>\n",
       "      <td>13</td>\n",
       "      <td>10</td>\n",
       "      <td>Tilly</td>\n",
       "      <td>NaN</td>\n",
       "    </tr>\n",
       "    <tr>\n",
       "      <th>2</th>\n",
       "      <td>891815181378084864</td>\n",
       "      <td>2017-07-31 00:18:03 +0000</td>\n",
       "      <td>This is Archie. He is a rare Norwegian Pouncin...</td>\n",
       "      <td>12</td>\n",
       "      <td>10</td>\n",
       "      <td>Archie</td>\n",
       "      <td>NaN</td>\n",
       "    </tr>\n",
       "    <tr>\n",
       "      <th>3</th>\n",
       "      <td>891689557279858688</td>\n",
       "      <td>2017-07-30 15:58:51 +0000</td>\n",
       "      <td>This is Darla. She commenced a snooze mid meal...</td>\n",
       "      <td>13</td>\n",
       "      <td>10</td>\n",
       "      <td>Darla</td>\n",
       "      <td>NaN</td>\n",
       "    </tr>\n",
       "    <tr>\n",
       "      <th>4</th>\n",
       "      <td>891327558926688256</td>\n",
       "      <td>2017-07-29 16:00:24 +0000</td>\n",
       "      <td>This is Franklin. He would like you to stop ca...</td>\n",
       "      <td>12</td>\n",
       "      <td>10</td>\n",
       "      <td>Franklin</td>\n",
       "      <td>NaN</td>\n",
       "    </tr>\n",
       "  </tbody>\n",
       "</table>\n",
       "</div>"
      ],
      "text/plain": [
       "             tweet_id                  timestamp  \\\n",
       "0  892420643555336193  2017-08-01 16:23:56 +0000   \n",
       "1  892177421306343426  2017-08-01 00:17:27 +0000   \n",
       "2  891815181378084864  2017-07-31 00:18:03 +0000   \n",
       "3  891689557279858688  2017-07-30 15:58:51 +0000   \n",
       "4  891327558926688256  2017-07-29 16:00:24 +0000   \n",
       "\n",
       "                                                text  rating_numerator  \\\n",
       "0  This is Phineas. He's a mystical boy. Only eve...                13   \n",
       "1  This is Tilly. She's just checking pup on you....                13   \n",
       "2  This is Archie. He is a rare Norwegian Pouncin...                12   \n",
       "3  This is Darla. She commenced a snooze mid meal...                13   \n",
       "4  This is Franklin. He would like you to stop ca...                12   \n",
       "\n",
       "   rating_denominator      name stage  \n",
       "0                  10   Phineas   NaN  \n",
       "1                  10     Tilly   NaN  \n",
       "2                  10    Archie   NaN  \n",
       "3                  10     Darla   NaN  \n",
       "4                  10  Franklin   NaN  "
      ]
     },
     "execution_count": 43,
     "metadata": {},
     "output_type": "execute_result"
    }
   ],
   "source": [
    "twitter_archive_enhanced_clean.head()"
   ]
  },
  {
   "cell_type": "markdown",
   "id": "21e7cb68",
   "metadata": {},
   "source": [
    "\n",
    "\n",
    "Define:\n",
    "\n",
    "Quality issue 6: to change the datatypes to an appropriate datatype"
   ]
  },
  {
   "cell_type": "markdown",
   "id": "89b986fb",
   "metadata": {},
   "source": [
    "\n",
    "\n",
    "Code"
   ]
  },
  {
   "cell_type": "code",
   "execution_count": 44,
   "id": "3eff0bd8",
   "metadata": {},
   "outputs": [],
   "source": [
    "twitter_archive_enhanced_clean['tweet_id']= twitter_archive_enhanced_clean['tweet_id'].astype(str)"
   ]
  },
  {
   "cell_type": "code",
   "execution_count": 45,
   "id": "c7e8fa01",
   "metadata": {},
   "outputs": [],
   "source": [
    "twitter_archive_enhanced_clean['timestamp']= twitter_archive_enhanced_clean['timestamp'].astype('datetime64')"
   ]
  },
  {
   "cell_type": "code",
   "execution_count": 46,
   "id": "85ac66bb",
   "metadata": {},
   "outputs": [],
   "source": [
    "df_image_clean['tweet_id']= df_image_clean['tweet_id'].astype(str)"
   ]
  },
  {
   "cell_type": "code",
   "execution_count": 47,
   "id": "6755125e",
   "metadata": {},
   "outputs": [],
   "source": [
    "twitter_archive_enhanced_clean['stage']= twitter_archive_enhanced_clean['stage'].astype('category')"
   ]
  },
  {
   "cell_type": "markdown",
   "id": "724c263d",
   "metadata": {},
   "source": [
    "Test"
   ]
  },
  {
   "cell_type": "code",
   "execution_count": 48,
   "id": "47f010a6",
   "metadata": {
    "scrolled": true
   },
   "outputs": [
    {
     "name": "stdout",
     "output_type": "stream",
     "text": [
      "<class 'pandas.core.frame.DataFrame'>\n",
      "Int64Index: 1994 entries, 0 to 2355\n",
      "Data columns (total 7 columns):\n",
      " #   Column              Non-Null Count  Dtype         \n",
      "---  ------              --------------  -----         \n",
      " 0   tweet_id            1994 non-null   object        \n",
      " 1   timestamp           1994 non-null   datetime64[ns]\n",
      " 2   text                1994 non-null   object        \n",
      " 3   rating_numerator    1994 non-null   int64         \n",
      " 4   rating_denominator  1994 non-null   int64         \n",
      " 5   name                1350 non-null   object        \n",
      " 6   stage               306 non-null    category      \n",
      "dtypes: category(1), datetime64[ns](1), int64(2), object(3)\n",
      "memory usage: 111.3+ KB\n"
     ]
    }
   ],
   "source": [
    "#confirm the datetime change\n",
    "twitter_archive_enhanced_clean.info()"
   ]
  },
  {
   "cell_type": "markdown",
   "id": "621425d4",
   "metadata": {},
   "source": [
    "Define:\n",
    "\n",
    "Quality issue 7: drop columns from df_image dataframe not needed for analysis"
   ]
  },
  {
   "cell_type": "markdown",
   "id": "64fae999",
   "metadata": {},
   "source": [
    "Code"
   ]
  },
  {
   "cell_type": "code",
   "execution_count": 49,
   "id": "74222ff6",
   "metadata": {},
   "outputs": [],
   "source": [
    "# Remove columns not needed in the df_image dataframe jpg_url, 'p2','p2_conf', 'p2_dog', 'p3', 'p3_conf', 'p3_dog'\n",
    "\n",
    "drop_cols = ['jpg_url','img_num', 'p2','p2_conf', 'p2_dog', 'p3', 'p3_conf', 'p3_dog']\n",
    "df_image_clean.drop(drop_cols , axis=1 , inplace =True)\n",
    "\n",
    "#source code:shorturl.at/abglq"
   ]
  },
  {
   "cell_type": "markdown",
   "id": "1f2e6bfc",
   "metadata": {},
   "source": [
    "Test"
   ]
  },
  {
   "cell_type": "code",
   "execution_count": 50,
   "id": "e73c5881",
   "metadata": {},
   "outputs": [
    {
     "data": {
      "text/plain": [
       "Index(['tweet_id', 'p1', 'p1_conf', 'p1_dog'], dtype='object')"
      ]
     },
     "execution_count": 50,
     "metadata": {},
     "output_type": "execute_result"
    }
   ],
   "source": [
    "# Test that the columns are dropped\n",
    "\n",
    "df_image_clean.columns"
   ]
  },
  {
   "cell_type": "markdown",
   "id": "8a0c8e0a",
   "metadata": {},
   "source": [
    "Define:\n",
    "Quality issue 8: Rename the df_image colums to be more descriptive"
   ]
  },
  {
   "cell_type": "code",
   "execution_count": 51,
   "id": "ab94aa3b",
   "metadata": {},
   "outputs": [],
   "source": [
    "# Rename columns of df_image data frame to be more descriptive\n",
    "\n",
    "new_col = {'p1': 'breed' , 'p1_conf': 'pred_confidence' , 'p1_dog': 'is_dog' }\n",
    "df_image_clean.rename(columns= new_col , inplace =True)"
   ]
  },
  {
   "cell_type": "code",
   "execution_count": 52,
   "id": "4d05671d",
   "metadata": {},
   "outputs": [
    {
     "data": {
      "text/plain": [
       "Index(['tweet_id', 'breed', 'pred_confidence', 'is_dog'], dtype='object')"
      ]
     },
     "execution_count": 52,
     "metadata": {},
     "output_type": "execute_result"
    }
   ],
   "source": [
    "# confirm the rename\n",
    "\n",
    "df_image_clean.columns"
   ]
  },
  {
   "cell_type": "code",
   "execution_count": 53,
   "id": "1fb2abc0",
   "metadata": {},
   "outputs": [],
   "source": [
    "# change \"id\" column in json_df to \"tweet_id\" to be consistent with other two data frames\n",
    "\n",
    "df_json_clean.rename(columns={'id': 'tweet_id'} , inplace = True)"
   ]
  },
  {
   "cell_type": "markdown",
   "id": "3e55a3db",
   "metadata": {},
   "source": [
    "Test"
   ]
  },
  {
   "cell_type": "code",
   "execution_count": 54,
   "id": "f2eaa631",
   "metadata": {},
   "outputs": [
    {
     "data": {
      "text/plain": [
       "Index(['tweet_id', 'retweet_count', 'favorite_count'], dtype='object')"
      ]
     },
     "execution_count": 54,
     "metadata": {},
     "output_type": "execute_result"
    }
   ],
   "source": [
    "# confirm the rename\n",
    "\n",
    "df_json_clean.columns"
   ]
  },
  {
   "cell_type": "code",
   "execution_count": 55,
   "id": "d931e948",
   "metadata": {},
   "outputs": [],
   "source": [
    "\n",
    "df_json_clean['tweet_id']= df_json_clean['tweet_id'].astype(str)"
   ]
  },
  {
   "cell_type": "markdown",
   "id": "85ac323c",
   "metadata": {},
   "source": [
    "Define:\n",
    "\n",
    "Tidynes issue 2: #Merge the three dataframes together"
   ]
  },
  {
   "cell_type": "markdown",
   "id": "aa336c21",
   "metadata": {},
   "source": [
    "Code"
   ]
  },
  {
   "cell_type": "code",
   "execution_count": 56,
   "id": "ab580991",
   "metadata": {},
   "outputs": [],
   "source": [
    "# Merge twitter_archive_enhanced_clean with img_pred_clean dataframe\n",
    "df = twitter_archive_enhanced_clean.merge(df_image_clean ,on='tweet_id' ,  how= 'inner')\n",
    "\n",
    "# Merge previous df with json_df_clean to create master df that will be used in our analysis:\n",
    "df_master = df.merge(df_json_clean , on= 'tweet_id' , how='inner')\n",
    "\n",
    "#source code:shorturl.at/abglq"
   ]
  },
  {
   "cell_type": "markdown",
   "id": "0db13060",
   "metadata": {},
   "source": [
    "Test"
   ]
  },
  {
   "cell_type": "code",
   "execution_count": 57,
   "id": "82e466a2",
   "metadata": {},
   "outputs": [
    {
     "data": {
      "text/html": [
       "<div>\n",
       "<style scoped>\n",
       "    .dataframe tbody tr th:only-of-type {\n",
       "        vertical-align: middle;\n",
       "    }\n",
       "\n",
       "    .dataframe tbody tr th {\n",
       "        vertical-align: top;\n",
       "    }\n",
       "\n",
       "    .dataframe thead th {\n",
       "        text-align: right;\n",
       "    }\n",
       "</style>\n",
       "<table border=\"1\" class=\"dataframe\">\n",
       "  <thead>\n",
       "    <tr style=\"text-align: right;\">\n",
       "      <th></th>\n",
       "      <th>tweet_id</th>\n",
       "      <th>timestamp</th>\n",
       "      <th>text</th>\n",
       "      <th>rating_numerator</th>\n",
       "      <th>rating_denominator</th>\n",
       "      <th>name</th>\n",
       "      <th>stage</th>\n",
       "      <th>breed</th>\n",
       "      <th>pred_confidence</th>\n",
       "      <th>is_dog</th>\n",
       "      <th>retweet_count</th>\n",
       "      <th>favorite_count</th>\n",
       "    </tr>\n",
       "  </thead>\n",
       "  <tbody>\n",
       "    <tr>\n",
       "      <th>0</th>\n",
       "      <td>892177421306343426</td>\n",
       "      <td>2017-08-01 00:17:27</td>\n",
       "      <td>This is Tilly. She's just checking pup on you....</td>\n",
       "      <td>13</td>\n",
       "      <td>10</td>\n",
       "      <td>Tilly</td>\n",
       "      <td>NaN</td>\n",
       "      <td>Chihuahua</td>\n",
       "      <td>0.323581</td>\n",
       "      <td>True</td>\n",
       "      <td>6514</td>\n",
       "      <td>33819</td>\n",
       "    </tr>\n",
       "    <tr>\n",
       "      <th>1</th>\n",
       "      <td>891815181378084864</td>\n",
       "      <td>2017-07-31 00:18:03</td>\n",
       "      <td>This is Archie. He is a rare Norwegian Pouncin...</td>\n",
       "      <td>12</td>\n",
       "      <td>10</td>\n",
       "      <td>Archie</td>\n",
       "      <td>NaN</td>\n",
       "      <td>Chihuahua</td>\n",
       "      <td>0.716012</td>\n",
       "      <td>True</td>\n",
       "      <td>4328</td>\n",
       "      <td>25461</td>\n",
       "    </tr>\n",
       "    <tr>\n",
       "      <th>2</th>\n",
       "      <td>891327558926688256</td>\n",
       "      <td>2017-07-29 16:00:24</td>\n",
       "      <td>This is Franklin. He would like you to stop ca...</td>\n",
       "      <td>12</td>\n",
       "      <td>10</td>\n",
       "      <td>Franklin</td>\n",
       "      <td>NaN</td>\n",
       "      <td>basset</td>\n",
       "      <td>0.555712</td>\n",
       "      <td>True</td>\n",
       "      <td>9774</td>\n",
       "      <td>41048</td>\n",
       "    </tr>\n",
       "    <tr>\n",
       "      <th>3</th>\n",
       "      <td>891087950875897856</td>\n",
       "      <td>2017-07-29 00:08:17</td>\n",
       "      <td>Here we have a majestic great white breaching ...</td>\n",
       "      <td>13</td>\n",
       "      <td>10</td>\n",
       "      <td>NaN</td>\n",
       "      <td>NaN</td>\n",
       "      <td>Chesapeake_Bay_retriever</td>\n",
       "      <td>0.425595</td>\n",
       "      <td>True</td>\n",
       "      <td>3261</td>\n",
       "      <td>20562</td>\n",
       "    </tr>\n",
       "    <tr>\n",
       "      <th>4</th>\n",
       "      <td>890971913173991426</td>\n",
       "      <td>2017-07-28 16:27:12</td>\n",
       "      <td>Meet Jax. He enjoys ice cream so much he gets ...</td>\n",
       "      <td>13</td>\n",
       "      <td>10</td>\n",
       "      <td>Jax</td>\n",
       "      <td>NaN</td>\n",
       "      <td>Appenzeller</td>\n",
       "      <td>0.341703</td>\n",
       "      <td>True</td>\n",
       "      <td>2158</td>\n",
       "      <td>12041</td>\n",
       "    </tr>\n",
       "  </tbody>\n",
       "</table>\n",
       "</div>"
      ],
      "text/plain": [
       "             tweet_id           timestamp  \\\n",
       "0  892177421306343426 2017-08-01 00:17:27   \n",
       "1  891815181378084864 2017-07-31 00:18:03   \n",
       "2  891327558926688256 2017-07-29 16:00:24   \n",
       "3  891087950875897856 2017-07-29 00:08:17   \n",
       "4  890971913173991426 2017-07-28 16:27:12   \n",
       "\n",
       "                                                text  rating_numerator  \\\n",
       "0  This is Tilly. She's just checking pup on you....                13   \n",
       "1  This is Archie. He is a rare Norwegian Pouncin...                12   \n",
       "2  This is Franklin. He would like you to stop ca...                12   \n",
       "3  Here we have a majestic great white breaching ...                13   \n",
       "4  Meet Jax. He enjoys ice cream so much he gets ...                13   \n",
       "\n",
       "   rating_denominator      name stage                     breed  \\\n",
       "0                  10     Tilly   NaN                 Chihuahua   \n",
       "1                  10    Archie   NaN                 Chihuahua   \n",
       "2                  10  Franklin   NaN                    basset   \n",
       "3                  10       NaN   NaN  Chesapeake_Bay_retriever   \n",
       "4                  10       Jax   NaN               Appenzeller   \n",
       "\n",
       "   pred_confidence  is_dog  retweet_count  favorite_count  \n",
       "0         0.323581    True           6514           33819  \n",
       "1         0.716012    True           4328           25461  \n",
       "2         0.555712    True           9774           41048  \n",
       "3         0.425595    True           3261           20562  \n",
       "4         0.341703    True           2158           12041  "
      ]
     },
     "execution_count": 57,
     "metadata": {},
     "output_type": "execute_result"
    }
   ],
   "source": [
    "df_master.head()"
   ]
  },
  {
   "cell_type": "markdown",
   "id": "e0129177",
   "metadata": {},
   "source": [
    "# storing the dataframe in csv file"
   ]
  },
  {
   "cell_type": "code",
   "execution_count": 58,
   "id": "90eb71bf",
   "metadata": {},
   "outputs": [],
   "source": [
    "df_master.to_csv('twitter_archive_master.csv', index= False)"
   ]
  },
  {
   "cell_type": "markdown",
   "id": "f15282b2",
   "metadata": {},
   "source": [
    "# Analysis and Visualization"
   ]
  },
  {
   "cell_type": "code",
   "execution_count": 59,
   "id": "aa1c9e88",
   "metadata": {},
   "outputs": [
    {
     "data": {
      "text/plain": [
       "Timestamp('2015-11-15 22:32:08')"
      ]
     },
     "execution_count": 59,
     "metadata": {},
     "output_type": "execute_result"
    }
   ],
   "source": [
    "# the start date of tweets\n",
    "df_master['timestamp'].min()"
   ]
  },
  {
   "cell_type": "code",
   "execution_count": 60,
   "id": "fb0977a0",
   "metadata": {
    "scrolled": false
   },
   "outputs": [
    {
     "data": {
      "text/plain": [
       "Timestamp('2017-08-01 00:17:27')"
      ]
     },
     "execution_count": 60,
     "metadata": {},
     "output_type": "execute_result"
    }
   ],
   "source": [
    "# end date of  gathered tweets\n",
    "df_master['timestamp'].max()"
   ]
  },
  {
   "cell_type": "code",
   "execution_count": 67,
   "id": "f4b08075",
   "metadata": {},
   "outputs": [
    {
     "data": {
      "text/plain": [
       "golden_retriever      139\n",
       "Labrador_retriever     95\n",
       "Pembroke               88\n",
       "Chihuahua              79\n",
       "pug                    54\n",
       "chow                   41\n",
       "Samoyed                40\n",
       "toy_poodle             38\n",
       "Pomeranian             38\n",
       "malamute               29\n",
       "Name: breed, dtype: int64"
      ]
     },
     "execution_count": 67,
     "metadata": {},
     "output_type": "execute_result"
    }
   ],
   "source": [
    "# the top 10 breeds\n",
    "df_master['breed'].value_counts()[0:10]"
   ]
  },
  {
   "cell_type": "markdown",
   "id": "52108993",
   "metadata": {},
   "source": [
    "#  The most liked breed"
   ]
  },
  {
   "cell_type": "code",
   "execution_count": 68,
   "id": "f7f80044",
   "metadata": {},
   "outputs": [
    {
     "data": {
      "text/plain": [
       "breed\n",
       "Afghan_hound                      17326.666667\n",
       "Border_terrier                    13578.000000\n",
       "Bedlington_terrier                13025.000000\n",
       "Australian_terrier                11127.500000\n",
       "Blenheim_spaniel                   9280.900000\n",
       "Border_collie                      8933.083333\n",
       "American_Staffordshire_terrier     7559.538462\n",
       "Appenzeller                        7317.500000\n",
       "Bernese_mountain_dog               6790.700000\n",
       "Airedale                           5280.833333\n",
       "Name: favorite_count, dtype: float64"
      ]
     },
     "execution_count": 68,
     "metadata": {},
     "output_type": "execute_result"
    }
   ],
   "source": [
    "most_liked_breed = df_master.groupby('breed')['favorite_count'].mean()[0:10].sort_values(ascending = False)\n",
    "most_liked_breed\n",
    "\n",
    "#source code:shorturl.at/abglq"
   ]
  },
  {
   "cell_type": "markdown",
   "id": "31c022a2",
   "metadata": {},
   "source": [
    " # What is WeRateDogs's posting trend by month\n"
   ]
  },
  {
   "cell_type": "code",
   "execution_count": 69,
   "id": "27fc284c",
   "metadata": {},
   "outputs": [],
   "source": [
    "# extract the month and groupby tweet_id\n",
    "monthly_tweets_count = df_master.groupby(df_master['timestamp'].dt.to_period('M'))['tweet_id'].count()"
   ]
  },
  {
   "cell_type": "code",
   "execution_count": 70,
   "id": "9ebc1683",
   "metadata": {},
   "outputs": [
    {
     "data": {
      "image/png": "[encoded data removed]",
      "text/plain": [
       "<Figure size 640x480 with 1 Axes>"
      ]
     },
     "metadata": {},
     "output_type": "display_data"
    }
   ],
   "source": [
    "monthly_tweets_count.plot()\n",
    "plt.title('Tweet Count by Month')\n",
    "plt.xlabel('Month')\n",
    "plt.ylabel('Number of Tweets')\n",
    "plt.show()\n",
    "\n",
    "#source code: github.com/evanchen13/weratedogs/blob/master/wrangle_act.ipynb"
   ]
  },
  {
   "cell_type": "markdown",
   "id": "4b6486cc",
   "metadata": {},
   "source": [
    "# What is the monthly trend of interactions with WeRateDogs's posts?\n",
    "\n",
    "Here, \"interactions\" is the sum of retweets and favorites. Create a new column called tweet_activity with this sum, and then use a similar process as before to find the average tweet_activity per tweet by month."
   ]
  },
  {
   "cell_type": "code",
   "execution_count": 71,
   "id": "42cfdd9f",
   "metadata": {},
   "outputs": [],
   "source": [
    "df_master['tweet_activity'] = df_master['retweet_count']+df_master['favorite_count']"
   ]
  },
  {
   "cell_type": "code",
   "execution_count": 72,
   "id": "12e6abf4",
   "metadata": {
    "scrolled": true
   },
   "outputs": [
    {
     "data": {
      "image/png": "[encoded data removed]",
      "text/plain": [
       "<Figure size 640x480 with 1 Axes>"
      ]
     },
     "metadata": {},
     "output_type": "display_data"
    }
   ],
   "source": [
    "monthly_tweet_activity = df_master.groupby(df_master['timestamp'].dt.to_period('M'))['tweet_activity'].mean()\n",
    "\n",
    "monthly_tweet_activity.plot()\n",
    "plt.title('Average Activity Per Tweet by Month')\n",
    "plt.xlabel('Month')\n",
    "plt.ylabel('Tweet Activity');\n"
   ]
  },
  {
   "cell_type": "code",
   "execution_count": 80,
   "id": "fb703802",
   "metadata": {},
   "outputs": [],
   "source": [
    "# to get the rows with stages  only\n",
    "df_stage =df_master[df_master['stage'].isnull()== False]\n"
   ]
  },
  {
   "cell_type": "code",
   "execution_count": 79,
   "id": "d6e74911",
   "metadata": {
    "scrolled": true
   },
   "outputs": [
    {
     "data": {
      "image/png": "[encoded data removed]",
      "text/plain": [
       "<Figure size 640x480 with 1 Axes>"
      ]
     },
     "metadata": {},
     "output_type": "display_data"
    }
   ],
   "source": [
    "\n",
    "# visualize Average retweet counts by dog stages\n",
    "\n",
    "retweet_counts_by_stages = pd.DataFrame(df_stage.groupby('stage').retweet_count.mean().sort_values())\n",
    "retweet_counts_by_stages['stage']= retweet_counts_by_stages.index\n",
    "\n",
    "retweet_counts_by_stages.plot(kind=\"barh\", color=\"b\", alpha=0.6, title=\"average retweet_count of dog stages\")\n",
    "plt.xlabel(\"Retweet_count\")\n",
    "plt.ylabel (\"Stages\")\n",
    "plt.show()\n",
    "\n",
    "#source code: stackoverflow.com"
   ]
  },
  {
   "cell_type": "code",
   "execution_count": 84,
   "id": "10e64fce",
   "metadata": {},
   "outputs": [
    {
     "data": {
      "text/plain": [
       "pupper            144\n",
       "doggo              48\n",
       "puppo              19\n",
       "doggo, pupper       8\n",
       "floofer             7\n",
       "doggo, floofer      1\n",
       "doggo, puppo        1\n",
       "Name: stage, dtype: int64"
      ]
     },
     "execution_count": 84,
     "metadata": {},
     "output_type": "execute_result"
    }
   ],
   "source": [
    "df_master['stage'].value_counts()"
   ]
  },
  {
   "cell_type": "code",
   "execution_count": null,
   "id": "e9f30889",
   "metadata": {},
   "outputs": [],
   "source": []
  }
 ],
 "metadata": {
  "kernelspec": {
   "display_name": "Python 3 (ipykernel)",
   "language": "python",
   "name": "python3"
  },
  "language_info": {
   "codemirror_mode": {
    "name": "ipython",
    "version": 3
   },
   "file_extension": ".py",
   "mimetype": "text/x-python",
   "name": "python",
   "nbconvert_exporter": "python",
   "pygments_lexer": "ipython3",
   "version": "3.9.15"
  }
 },
 "nbformat": 4,
 "nbformat_minor": 5
}
